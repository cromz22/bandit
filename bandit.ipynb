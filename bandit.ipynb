{
 "cells": [
  {
   "cell_type": "code",
   "execution_count": 123,
   "metadata": {},
   "outputs": [],
   "source": [
    "import numpy as np\n",
    "import matplotlib.pyplot as plt\n",
    "from multiprocessing import Pool"
   ]
  },
  {
   "cell_type": "code",
   "execution_count": 86,
   "metadata": {},
   "outputs": [],
   "source": [
    "def greedy(k, T):\n",
    "    qstars = [np.random.normal() for i in range(k)]\n",
    "    q_estimates = np.zeros(k) # Q(a) = 0 for a in range(k)\n",
    "    counter = np.zeros(k) # N(a) = 0 for a in range(k)\n",
    "    avg_reward = []\n",
    "\n",
    "    for i in range(T):\n",
    "        reward_options = [np.random.normal(loc=qstars[j]) for j in range(k)]\n",
    "        action = np.argmax(reward_options) # A = argmax_a Q(a)\n",
    "        # np.argmax is not good when there are two or more same values in the array,\n",
    "        # but I ignore that case because it is unlikely to happen\n",
    "        reward_this_time = reward_options[action] # R = bandit(A)\n",
    "        counter[action] += 1 # N(A) = N(A) + 1\n",
    "        q_estimates[action] += (reward_this_time - q_estimates[action]) / counter[action] # Q(A) = Q(A) + (R - Q(A)) / N(A)\n",
    "        avg_reward.append(np.average(q_estimates))\n",
    "    return avg_reward"
   ]
  },
  {
   "cell_type": "code",
   "execution_count": 92,
   "metadata": {},
   "outputs": [],
   "source": [
    "def epsilon_greedy(k, T, epsilon):\n",
    "    qstars = [np.random.normal() for i in range(k)]\n",
    "    q_estimates = np.zeros(k) # Q(a) = 0 for a in range(k)\n",
    "    counter = np.zeros(k) # N(a) = 0 for a in range(k)\n",
    "    avg_reward = []\n",
    "\n",
    "    for i in range(T):\n",
    "        reward_options = [np.random.normal(loc=qstars[j]) for j in range(k)]\n",
    "        rand = np.random.rand()\n",
    "        if rand < epsilon:\n",
    "            action = np.random.randint(k) # A = a random action\n",
    "        else:\n",
    "            action = np.argmax(reward_options) # A = argmax_a Q(a)\n",
    "        reward_this_time = reward_options[action] # R = bandit(A)\n",
    "        counter[action] += 1 # N(A) = N(A) + 1\n",
    "        q_estimates[action] += (reward_this_time - q_estimates[action]) / counter[action] # Q(A) = Q(A) + (R - Q(A)) / N(A)\n",
    "        avg_reward.append(np.average(q_estimates))\n",
    "    return avg_reward"
   ]
  },
  {
   "cell_type": "code",
   "execution_count": 116,
   "metadata": {},
   "outputs": [],
   "source": [
    "# avg_reward_greedy = []\n",
    "# for i in range(n_iter):\n",
    "#     p = multiprocessing.Process(target=greedy, args=(k, T))\n",
    "#     p.start()\n",
    "#     avg_reward_greedy.append(p)"
   ]
  },
  {
   "cell_type": "code",
   "execution_count": 122,
   "metadata": {},
   "outputs": [
    {
     "name": "stdout",
     "output_type": "stream",
     "text": [
      "[<Process name='Process-2' pid=689 parent=388 stopped exitcode=0>\n",
      " <Process name='Process-3' pid=690 parent=388 stopped exitcode=0>\n",
      " <Process name='Process-4' pid=691 parent=388 stopped exitcode=0> ...\n",
      " <Process name='Process-1999' pid=2686 parent=388 stopped exitcode=0>\n",
      " <Process name='Process-2000' pid=2687 parent=388 stopped exitcode=0>\n",
      " <Process name='Process-2001' pid=2688 parent=388 stopped exitcode=0>]\n"
     ]
    }
   ],
   "source": [
    "# avg_reward_greedy = np.array(avg_reward_greedy)\n",
    "# print(avg_reward_greedy)"
   ]
  },
  {
   "cell_type": "code",
   "execution_count": 145,
   "metadata": {},
   "outputs": [],
   "source": [
    "k = 10\n",
    "T = 1000\n",
    "n_iter = 1000\n",
    "epsilons = [0.5, 0.1, 0.01]"
   ]
  },
  {
   "cell_type": "code",
   "execution_count": 146,
   "metadata": {},
   "outputs": [],
   "source": [
    "avg_reward_greedy = np.array([greedy(k, T) for _i in range(n_iter)])"
   ]
  },
  {
   "cell_type": "code",
   "execution_count": 147,
   "metadata": {},
   "outputs": [],
   "source": [
    "avg_rewards_epsilon_greedy = []\n",
    "for epsilon in epsilons:\n",
    "    avg_rewards_epsilon_greedy.append(np.array([epsilon_greedy(k, T, epsilon) for _j in range(n_iter)]))"
   ]
  },
  {
   "cell_type": "code",
   "execution_count": 148,
   "metadata": {},
   "outputs": [],
   "source": [
    "avg_avg_reward_greedy = avg_reward_greedy.mean(axis=0)\n",
    "avg_avg_rewards_epsilon_greedy = []\n",
    "for i in range(len(epsilons)):\n",
    "    avg_avg_rewards_epsilon_greedy.append(avg_rewards_epsilon_greedy[i].mean(axis=0))"
   ]
  },
  {
   "cell_type": "code",
   "execution_count": 150,
   "metadata": {},
   "outputs": [
    {
     "data": {
      "text/plain": [
       "<matplotlib.legend.Legend at 0x7fb91dc8a490>"
      ]
     },
     "execution_count": 150,
     "metadata": {},
     "output_type": "execute_result"
    },
    {
     "data": {
      "image/png": "[encoded data removed]",
      "text/plain": [
       "<Figure size 432x288 with 1 Axes>"
      ]
     },
     "metadata": {
      "needs_background": "light"
     },
     "output_type": "display_data"
    }
   ],
   "source": [
    "plt.plot(np.arange(200), avg_avg_reward_greedy[:200], label=\"greedy\")\n",
    "for i, epsilon in enumerate(epsilons):\n",
    "    plt.plot(np.arange(200), avg_avg_rewards_epsilon_greedy[i][:200], label=\"$\\epsilon$-greedy ($\\epsilon$ = {})\".format(epsilon))\n",
    "plt.legend()"
   ]
  },
  {
   "cell_type": "code",
   "execution_count": null,
   "metadata": {},
   "outputs": [],
   "source": [
    "# 更新するタイミングが違う気がする"
   ]
  }
 ],
 "metadata": {
  "kernelspec": {
   "display_name": "Python 3",
   "language": "python",
   "name": "python3"
  },
  "language_info": {
   "codemirror_mode": {
    "name": "ipython",
    "version": 3
   },
   "file_extension": ".py",
   "mimetype": "text/x-python",
   "name": "python",
   "nbconvert_exporter": "python",
   "pygments_lexer": "ipython3",
   "version": "3.8.2"
  }
 },
 "nbformat": 4,
 "nbformat_minor": 4
}
