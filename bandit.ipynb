{
 "cells": [
  {
   "cell_type": "code",
   "execution_count": 1,
   "metadata": {},
   "outputs": [],
   "source": [
    "import numpy as np"
   ]
  },
  {
   "cell_type": "code",
   "execution_count": 28,
   "metadata": {},
   "outputs": [],
   "source": [
    "k = 10\n",
    "T = 1000"
   ]
  },
  {
   "cell_type": "code",
   "execution_count": 45,
   "metadata": {},
   "outputs": [],
   "source": [
    "def divide_if_nonzero(a, b):\n",
    "    if b == 0:\n",
    "        return 0\n",
    "    else:\n",
    "        return a / b"
   ]
  },
  {
   "cell_type": "code",
   "execution_count": 54,
   "metadata": {},
   "outputs": [],
   "source": [
    "def divide_array_if_nonzero(a, b):\n",
    "    result = np.zeros(k)\n",
    "    if np.count_nonzero(visit_action_counter) == k:\n",
    "        result = a / b\n",
    "    else:\n",
    "        for i in range(k):\n",
    "            result[i] = divide_if_nonzero(a[i], b[i])\n",
    "    return result"
   ]
  },
  {
   "cell_type": "code",
   "execution_count": 57,
   "metadata": {},
   "outputs": [
    {
     "name": "stdout",
     "output_type": "stream",
     "text": [
      "[2.         2.5        0.33333333 0.75       1.         0.\n",
      " 1.         0.5        0.         0.4       ]\n"
     ]
    }
   ],
   "source": [
    "# Example\n",
    "cummulative_reward_counter = np.array([2, 5, 1, 3, 5, 6, 4, 3, 0, 2])\n",
    "visit_action_counter       = np.array([1, 2, 3, 4, 5, 0, 4, 6, 3, 5])\n",
    "qt = divide_array_if_nonzero(cummulative_reward_counter, visit_action_counter)\n",
    "print(qt)"
   ]
  },
  {
   "cell_type": "code",
   "execution_count": 58,
   "metadata": {},
   "outputs": [],
   "source": [
    "# There is np.argmax(a), but it only returns a single value\n",
    "def argmax(a):\n",
    "    return [i for i, x in enumerate(a) if x == max(a)]"
   ]
  },
  {
   "cell_type": "code",
   "execution_count": 62,
   "metadata": {},
   "outputs": [
    {
     "name": "stdout",
     "output_type": "stream",
     "text": [
      "[3, 6]\n",
      "2\n"
     ]
    }
   ],
   "source": [
    "# Example\n",
    "a = np.array([3, 5, 6, 7, 3, 4, 7, 5, 2, 1])\n",
    "print(argmax(a))\n",
    "print(len(argmax(a)))"
   ]
  },
  {
   "cell_type": "code",
   "execution_count": 34,
   "metadata": {},
   "outputs": [],
   "source": [
    "np.random.seed(seed=0)\n",
    "qstars = [np.random.normal() for i in range(k)]\n",
    "cummulative_reward_counter = np.zeros(k)\n",
    "visit_action_counter = np.zeros(k)"
   ]
  },
  {
   "cell_type": "code",
   "execution_count": 26,
   "metadata": {},
   "outputs": [
    {
     "data": {
      "text/plain": [
       "[1.764052345967664,\n",
       " 0.4001572083672233,\n",
       " 0.9787379841057392,\n",
       " 2.240893199201458,\n",
       " 1.8675579901499675,\n",
       " -0.977277879876411,\n",
       " 0.9500884175255894,\n",
       " -0.1513572082976979,\n",
       " -0.10321885179355784,\n",
       " 0.41059850193837233]"
      ]
     },
     "execution_count": 26,
     "metadata": {},
     "output_type": "execute_result"
    }
   ],
   "source": [
    "qstars"
   ]
  },
  {
   "cell_type": "code",
   "execution_count": null,
   "metadata": {},
   "outputs": [],
   "source": [
    "qts = np.zeros(T)\n",
    "for i in range(T):\n",
    "    reward_options = [np.random.normal(loc=qstars[k]) for j in range(k)]\n",
    "    action = np.argmax(reward_options)"
   ]
  },
  {
   "cell_type": "code",
   "execution_count": 32,
   "metadata": {},
   "outputs": [
    {
     "name": "stdout",
     "output_type": "stream",
     "text": [
      "[0 1 2 4 3 6 4 5 3 2]\n"
     ]
    },
    {
     "data": {
      "text/plain": [
       "5"
      ]
     },
     "execution_count": 32,
     "metadata": {},
     "output_type": "execute_result"
    }
   ],
   "source": [
    "# reward_options = np.zeros(k)\n",
    "reward_options = np.array([0, 1, 2, 4, 3, 6, 4, 5, 3, 2])\n",
    "print(reward_options)\n",
    "np.argmax(reward_options)"
   ]
  }
 ],
 "metadata": {
  "kernelspec": {
   "display_name": "Python 3",
   "language": "python",
   "name": "python3"
  },
  "language_info": {
   "codemirror_mode": {
    "name": "ipython",
    "version": 3
   },
   "file_extension": ".py",
   "mimetype": "text/x-python",
   "name": "python",
   "nbconvert_exporter": "python",
   "pygments_lexer": "ipython3",
   "version": "3.6.9"
  }
 },
 "nbformat": 4,
 "nbformat_minor": 4
}
